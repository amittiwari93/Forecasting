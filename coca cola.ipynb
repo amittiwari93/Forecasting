{
 "cells": [
  {
   "cell_type": "code",
   "execution_count": 1,
   "id": "ddade069",
   "metadata": {},
   "outputs": [],
   "source": [
    "import pandas as pd\n",
    "import numpy as np\n",
    "import matplotlib.pyplot as plt\n",
    "import statsmodels.formula.api as snf"
   ]
  },
  {
   "cell_type": "code",
   "execution_count": 2,
   "id": "0dc5a3c8",
   "metadata": {},
   "outputs": [],
   "source": [
    "Cocacola=pd.read_excel(\"CocaCola_Sales_Rawdata.xlsx\")\n",
    "Cocacola.head()\n",
    "Cocacola.isnull().sum()\n",
    "quarter=[\"Q1,Q2,Q3,Q4\"]\n",
    "p=Cocacola[\"Quarter\"][0]\n",
    "p[0:2]\n",
    "Cocacola[\"sales\"]=0\n"
   ]
  },
  {
   "cell_type": "code",
   "execution_count": 3,
   "id": "16ec4449",
   "metadata": {},
   "outputs": [
    {
     "name": "stderr",
     "output_type": "stream",
     "text": [
      "<ipython-input-3-8ad0a76a7fce>:3: SettingWithCopyWarning: \n",
      "A value is trying to be set on a copy of a slice from a DataFrame\n",
      "\n",
      "See the caveats in the documentation: https://pandas.pydata.org/pandas-docs/stable/user_guide/indexing.html#returning-a-view-versus-a-copy\n",
      "  Cocacola[\"sales\"][i]=p[0:2]\n",
      "C:\\ProgramData\\Anaconda3\\lib\\site-packages\\pandas\\core\\indexing.py:1637: SettingWithCopyWarning: \n",
      "A value is trying to be set on a copy of a slice from a DataFrame\n",
      "\n",
      "See the caveats in the documentation: https://pandas.pydata.org/pandas-docs/stable/user_guide/indexing.html#returning-a-view-versus-a-copy\n",
      "  self._setitem_single_block(indexer, value, name)\n"
     ]
    }
   ],
   "source": [
    "for i in range(42):\n",
    "    p=Cocacola[\"Quarter\"][i]\n",
    "    Cocacola[\"sales\"][i]=p[0:2]\n",
    "    \n",
    "quarter_dummies=pd.DataFrame(pd.get_dummies(Cocacola[\"sales\"]))\n",
    "Coca=pd.concat([Cocacola,quarter_dummies],axis=1)\n",
    "\n",
    "Coca[\"t\"]=np.arange(1,43)\n",
    "Coca[\"t_square\"]=Coca[\"t\"]*Coca[\"t\"]\n",
    "Coca[\"log_sales\"]=np.log(Coca[\"Sales\"])\n",
    "\n",
    "\n",
    "\n",
    "Train=Coca.head(38)\n",
    "Test=Coca.tail(4)\n",
    "Test=Test.set_index(np.arange(1,5))\n"
   ]
  },
  {
   "cell_type": "code",
   "execution_count": 21,
   "id": "c673b3ef",
   "metadata": {},
   "outputs": [
    {
     "name": "stdout",
     "output_type": "stream",
     "text": [
      "1    4145.466199\n",
      "2    4213.536208\n",
      "3    4281.606217\n",
      "4    4349.676226\n",
      "dtype: float64\n",
      "591.553295722396\n"
     ]
    }
   ],
   "source": [
    "Lin_model=snf.ols(\"Sales~t\",data=Train).fit()\n",
    "Lin_pred=pd.Series(Lin_model.predict(pd.DataFrame(Test[\"t\"])))\n",
    "Lin_rmse=np.sqrt(np.mean((np.array(Test[\"Sales\"])-np.array(Lin_pred))**2))\n",
    "print(Lin_pred)\n",
    "print(Lin_rmse)"
   ]
  },
  {
   "cell_type": "code",
   "execution_count": null,
   "id": "16c0b29a",
   "metadata": {},
   "outputs": [],
   "source": []
  },
  {
   "cell_type": "code",
   "execution_count": 22,
   "id": "12312834",
   "metadata": {},
   "outputs": [
    {
     "name": "stdout",
     "output_type": "stream",
     "text": [
      "1    4669.104172\n",
      "2    4817.733869\n",
      "3    4970.391551\n",
      "4    5127.077217\n",
      "dtype: float64\n",
      "475.5618351831625\n"
     ]
    }
   ],
   "source": [
    "Quad_model=snf.ols(\"Sales~t+t_square\",data=Train).fit()\n",
    "Quad_pred=pd.Series(Quad_model.predict(pd.DataFrame(Test[[\"t\",\"t_square\"]])))\n",
    "Quad_rmse=np.sqrt(np.mean((np.array(Test[\"Sales\"])-np.array(Quad_pred))**2))\n",
    "print(Quad_pred)\n",
    "print(Quad_rmse)"
   ]
  },
  {
   "cell_type": "code",
   "execution_count": 7,
   "id": "e3472661",
   "metadata": {},
   "outputs": [],
   "source": [
    "Exp_model=snf.ols(\"log_sales~t\",data=Train).fit()\n",
    "Exp_pred=pd.Series(Exp_model.predict(pd.DataFrame(Test[\"t\"])))\n",
    "Exp_rmse=np.sqrt(np.mean((np.array(Test[\"Sales\"])-np.array(np.exp(Exp_pred)))**2))\n",
    "print(Exp_pred)\n",
    "print(Exp_rmse)"
   ]
  },
  {
   "cell_type": "code",
   "execution_count": 23,
   "id": "36eccff7",
   "metadata": {},
   "outputs": [
    {
     "name": "stdout",
     "output_type": "stream",
     "text": [
      "1    2938.434220\n",
      "2    2712.930886\n",
      "3    2472.555199\n",
      "4    3150.000098\n",
      "dtype: float64\n",
      "1860.0238154547278\n"
     ]
    }
   ],
   "source": [
    "Add_sea=snf.ols(\"Sales~Q1+Q2+Q3+Q4\",data=Train).fit()\n",
    "Add_pred=pd.Series(Add_sea.predict(pd.DataFrame(Test[[\"Q1\",\"Q2\",\"Q3\",\"Q4\"]])))\n",
    "Add_rmse=np.sqrt(np.mean((np.array(Test[\"Sales\"])-np.array(Add_pred))**2))\n",
    "print(Add_pred)\n",
    "print(Add_rmse)"
   ]
  },
  {
   "cell_type": "code",
   "execution_count": 24,
   "id": "b0d241ee",
   "metadata": {},
   "outputs": [
    {
     "name": "stdout",
     "output_type": "stream",
     "text": [
      "1    4292.265126\n",
      "2    4066.761792\n",
      "3    3961.769195\n",
      "4    4639.214094\n",
      "dtype: float64\n",
      "464.98290239822256\n"
     ]
    }
   ],
   "source": [
    "Add_lin_sea=snf.ols(\"Sales~Q1+Q2+Q3+Q4+t\",data=Train).fit()\n",
    "Add_lin_pred=pd.Series(Add_lin_sea.predict(pd.DataFrame(Test[[\"Q1\",\"Q2\",\"Q3\",\"Q4\",\"t\"]])))\n",
    "Add_lin_rmse=np.sqrt(np.mean((np.array(Test[\"Sales\"])-np.array(Add_lin_pred))**2))\n",
    "print(Add_lin_pred)\n",
    "print(Add_lin_rmse)"
   ]
  },
  {
   "cell_type": "code",
   "execution_count": 25,
   "id": "50abb231",
   "metadata": {},
   "outputs": [
    {
     "name": "stdout",
     "output_type": "stream",
     "text": [
      "1    4852.677797\n",
      "2    4709.186074\n",
      "3    4638.364982\n",
      "4    5406.022652\n",
      "dtype: float64\n",
      "301.73800719344115\n"
     ]
    }
   ],
   "source": [
    "Add_Quad_sea=snf.ols(\"Sales~Q1+Q2+Q3+Q4+t+t_square\",data=Train).fit()\n",
    "Add_Quad_pred=pd.Series(Add_Quad_sea.predict(pd.DataFrame(Test[[\"Q1\",\"Q2\",\"Q3\",\"Q4\",\"t\",\"t_square\"]])))\n",
    "Add_Quad_rmse=np.sqrt(np.mean((np.array(Test[\"Sales\"])-np.array(Add_Quad_pred))**2))\n",
    "print(Add_Quad_pred)\n",
    "print(Add_Quad_rmse)"
   ]
  },
  {
   "cell_type": "code",
   "execution_count": 26,
   "id": "e514f481",
   "metadata": {},
   "outputs": [
    {
     "name": "stdout",
     "output_type": "stream",
     "text": [
      "1    7.951932\n",
      "2    7.876511\n",
      "3    7.770682\n",
      "4    8.012743\n",
      "dtype: float64\n",
      "1963.3896400779759\n"
     ]
    }
   ],
   "source": [
    "Mul_model=snf.ols(\"log_sales~Q1+Q2+Q3+Q4\",data=Train).fit()\n",
    "Mul_pred=pd.Series(Mul_model.predict(pd.DataFrame(Test[[\"Q1\",\"Q2\",\"Q3\",\"Q4\"]])))\n",
    "Mul_rmse=np.sqrt(np.mean((np.array(Test[\"Sales\"])-np.array(np.exp(Mul_pred)))**2))\n",
    "print(Mul_pred)\n",
    "print(Mul_rmse)"
   ]
  },
  {
   "cell_type": "code",
   "execution_count": 27,
   "id": "8f6a0e60",
   "metadata": {},
   "outputs": [
    {
     "name": "stdout",
     "output_type": "stream",
     "text": [
      "1    8.423998\n",
      "2    8.348577\n",
      "3    8.289954\n",
      "4    8.532015\n",
      "dtype: float64\n",
      "225.52439049825372\n"
     ]
    }
   ],
   "source": [
    "Mul_lin_model=snf.ols(\"log_sales~Q1+Q2+Q3+Q4+t\",data=Train).fit()\n",
    "Mul_lin_pred=pd.Series(Mul_lin_model.predict(pd.DataFrame(Test[[\"Q1\",\"Q2\",\"Q3\",\"Q4\",\"t\"]])))\n",
    "Mul_lin_rmse=np.sqrt(np.mean((np.array(Test[\"Sales\"])-np.array(np.exp(Mul_lin_pred)))**2))\n",
    "print(Mul_lin_pred)\n",
    "print(Mul_lin_rmse)"
   ]
  },
  {
   "cell_type": "code",
   "execution_count": 28,
   "id": "0cecbaad",
   "metadata": {},
   "outputs": [
    {
     "name": "stdout",
     "output_type": "stream",
     "text": [
      "1    8.556469\n",
      "2    8.500434\n",
      "3    8.449888\n",
      "4    8.713274\n",
      "dtype: float64\n",
      "581.8457187954485\n"
     ]
    }
   ],
   "source": [
    "Mul_lin_quad_model=snf.ols(\"log_sales~Q1+Q2+Q3+Q4+t+t_square\",data=Train).fit()\n",
    "Mul_lin_quad_pred=pd.Series(Mul_lin_quad_model.predict(pd.DataFrame(Test[[\"Q1\",\"Q2\",\"Q3\",\"Q4\",\"t\",\"t_square\"]])))\n",
    "Mul_lin_quad_rmse=np.sqrt(np.mean((np.array(Test[\"Sales\"])-np.array(np.exp(Mul_lin_quad_pred)))**2))\n",
    "print(Mul_lin_quad_pred)\n",
    "print(Mul_lin_quad_rmse)"
   ]
  },
  {
   "cell_type": "code",
   "execution_count": 33,
   "id": "81406145",
   "metadata": {},
   "outputs": [
    {
     "name": "stdout",
     "output_type": "stream",
     "text": [
      "               Model  RMSE_Values\n",
      "0           Lin_rmse   591.553296\n",
      "1          Quad_rmse   475.561835\n",
      "2           Exp_rmse   466.247973\n",
      "3           Add_rmse  1860.023815\n",
      "4       Add_lin_rmse   464.982902\n",
      "5      Add_Quad_rmse   301.738007\n",
      "6           Mul_rmse  1963.389640\n",
      "7       Mul_lin_rmse   225.524390\n",
      "8  Mul_lin_quad_rmse   581.845719\n"
     ]
    }
   ],
   "source": [
    "Rmse_Table={\"Model\":pd.Series([\"Lin_rmse\",\"Quad_rmse\",\"Exp_rmse\",\"Add_rmse\",\"Add_lin_rmse\",\"Add_Quad_rmse\",\"Mul_rmse\",\"Mul_lin_rmse\",\"Mul_lin_quad_rmse\"]),\"RMSE_Values\":pd.Series([Lin_rmse,Quad_rmse,Exp_rmse,Add_rmse,Add_lin_rmse,Add_Quad_rmse,Mul_rmse,Mul_lin_rmse,Mul_lin_quad_rmse])}\n",
    "Rmse_Table=pd.DataFrame(Rmse_Table)\n",
    "print(Rmse_Table)"
   ]
  },
  {
   "cell_type": "code",
   "execution_count": 31,
   "id": "7588cb70",
   "metadata": {},
   "outputs": [],
   "source": [
    "Final=Mul_lin_model=snf.ols(\"log_sales~Q1+Q2+Q3+Q4+t\",data=Coca).fit()"
   ]
  },
  {
   "cell_type": "code",
   "execution_count": null,
   "id": "99d13288",
   "metadata": {},
   "outputs": [],
   "source": []
  }
 ],
 "metadata": {
  "kernelspec": {
   "display_name": "Python 3",
   "language": "python",
   "name": "python3"
  },
  "language_info": {
   "codemirror_mode": {
    "name": "ipython",
    "version": 3
   },
   "file_extension": ".py",
   "mimetype": "text/x-python",
   "name": "python",
   "nbconvert_exporter": "python",
   "pygments_lexer": "ipython3",
   "version": "3.8.8"
  }
 },
 "nbformat": 4,
 "nbformat_minor": 5
}
